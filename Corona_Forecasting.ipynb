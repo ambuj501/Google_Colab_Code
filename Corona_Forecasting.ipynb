{
  "nbformat": 4,
  "nbformat_minor": 0,
  "metadata": {
    "colab": {
      "name": "Corona_Forecasting.ipynb",
      "provenance": [],
      "collapsed_sections": [],
      "authorship_tag": "ABX9TyPM8PuywT0v/4PLhIOEgaZa",
      "include_colab_link": true
    },
    "kernelspec": {
      "name": "python3",
      "display_name": "Python 3"
    },
    "accelerator": "GPU"
  },
  "cells": [
    {
      "cell_type": "markdown",
      "metadata": {
        "id": "view-in-github",
        "colab_type": "text"
      },
      "source": [
        "<a href=\"https://colab.research.google.com/github/ambuj501/Google_Colab_Code/blob/master/Corona_Forecasting.ipynb\" target=\"_parent\"><img src=\"https://colab.research.google.com/assets/colab-badge.svg\" alt=\"Open In Colab\"/></a>"
      ]
    },
    {
      "cell_type": "markdown",
      "metadata": {
        "id": "587KbUwpHLsw",
        "colab_type": "text"
      },
      "source": [
        "###Import all Dependencies"
      ]
    },
    {
      "cell_type": "code",
      "metadata": {
        "id": "o6RLR7Euf0Qn",
        "colab_type": "code",
        "colab": {}
      },
      "source": [
        "import numpy as np\n",
        "import pandas as pd\n",
        "import matplotlib.pyplot as plt\n",
        "%matplotlib inline\n"
      ],
      "execution_count": 2,
      "outputs": []
    },
    {
      "cell_type": "markdown",
      "metadata": {
        "id": "6PLj8IhFHZYW",
        "colab_type": "text"
      },
      "source": [
        "####Obtain Dataset from Github\n",
        "\n",
        "The data is provided by the Johns Hopkins University Center for Systems Science and Engineering (JHU CSSE) and contains the number of reported daily cases by country. The dataset is available on GitHub and is updated regularly.\n",
        "\n",
        "We're going to take the Time Series data only for confirmed cases (number of deaths and recovered cases are also available)"
      ]
    },
    {
      "cell_type": "code",
      "metadata": {
        "id": "ic_S5ob7gk5J",
        "colab_type": "code",
        "colab": {
          "base_uri": "https://localhost:8080/",
          "height": 134
        },
        "outputId": "e2f2bb1c-4496-4669-bccb-282789cfdaa1"
      },
      "source": [
        "!git clone https://github.com/CSSEGISandData/COVID-19.git"
      ],
      "execution_count": 3,
      "outputs": [
        {
          "output_type": "stream",
          "text": [
            "Cloning into 'COVID-19'...\n",
            "remote: Enumerating objects: 7, done.\u001b[K\n",
            "remote: Counting objects:  14% (1/7)\u001b[K\rremote: Counting objects:  28% (2/7)\u001b[K\rremote: Counting objects:  42% (3/7)\u001b[K\rremote: Counting objects:  57% (4/7)\u001b[K\rremote: Counting objects:  71% (5/7)\u001b[K\rremote: Counting objects:  85% (6/7)\u001b[K\rremote: Counting objects: 100% (7/7)\u001b[K\rremote: Counting objects: 100% (7/7), done.\u001b[K\n",
            "remote: Compressing objects: 100% (7/7), done.\u001b[K\n",
            "remote: Total 34564 (delta 0), reused 2 (delta 0), pack-reused 34557\u001b[K\n",
            "Receiving objects: 100% (34564/34564), 175.52 MiB | 28.62 MiB/s, done.\n",
            "Resolving deltas: 100% (20658/20658), done.\n"
          ],
          "name": "stdout"
        }
      ]
    },
    {
      "cell_type": "code",
      "metadata": {
        "id": "Eo9_8L8jg6ZL",
        "colab_type": "code",
        "colab": {}
      },
      "source": [
        "df = pd.read_csv('/content/COVID-19/csse_covid_19_data/csse_covid_19_time_series/time_series_covid19_confirmed_global.csv')"
      ],
      "execution_count": 106,
      "outputs": []
    },
    {
      "cell_type": "code",
      "metadata": {
        "id": "QFIR26FViBw0",
        "colab_type": "code",
        "colab": {
          "base_uri": "https://localhost:8080/",
          "height": 244
        },
        "outputId": "453a7574-a320-4f35-da35-14b82aafb9ce"
      },
      "source": [
        "df.head()"
      ],
      "execution_count": 107,
      "outputs": [
        {
          "output_type": "execute_result",
          "data": {
            "text/html": [
              "<div>\n",
              "<style scoped>\n",
              "    .dataframe tbody tr th:only-of-type {\n",
              "        vertical-align: middle;\n",
              "    }\n",
              "\n",
              "    .dataframe tbody tr th {\n",
              "        vertical-align: top;\n",
              "    }\n",
              "\n",
              "    .dataframe thead th {\n",
              "        text-align: right;\n",
              "    }\n",
              "</style>\n",
              "<table border=\"1\" class=\"dataframe\">\n",
              "  <thead>\n",
              "    <tr style=\"text-align: right;\">\n",
              "      <th></th>\n",
              "      <th>Province/State</th>\n",
              "      <th>Country/Region</th>\n",
              "      <th>Lat</th>\n",
              "      <th>Long</th>\n",
              "      <th>1/22/20</th>\n",
              "      <th>1/23/20</th>\n",
              "      <th>1/24/20</th>\n",
              "      <th>1/25/20</th>\n",
              "      <th>1/26/20</th>\n",
              "      <th>1/27/20</th>\n",
              "      <th>1/28/20</th>\n",
              "      <th>1/29/20</th>\n",
              "      <th>1/30/20</th>\n",
              "      <th>1/31/20</th>\n",
              "      <th>2/1/20</th>\n",
              "      <th>2/2/20</th>\n",
              "      <th>2/3/20</th>\n",
              "      <th>2/4/20</th>\n",
              "      <th>2/5/20</th>\n",
              "      <th>2/6/20</th>\n",
              "      <th>2/7/20</th>\n",
              "      <th>2/8/20</th>\n",
              "      <th>2/9/20</th>\n",
              "      <th>2/10/20</th>\n",
              "      <th>2/11/20</th>\n",
              "      <th>2/12/20</th>\n",
              "      <th>2/13/20</th>\n",
              "      <th>2/14/20</th>\n",
              "      <th>2/15/20</th>\n",
              "      <th>2/16/20</th>\n",
              "      <th>2/17/20</th>\n",
              "      <th>2/18/20</th>\n",
              "      <th>2/19/20</th>\n",
              "      <th>2/20/20</th>\n",
              "      <th>2/21/20</th>\n",
              "      <th>2/22/20</th>\n",
              "      <th>2/23/20</th>\n",
              "      <th>2/24/20</th>\n",
              "      <th>2/25/20</th>\n",
              "      <th>2/26/20</th>\n",
              "      <th>...</th>\n",
              "      <th>5/13/20</th>\n",
              "      <th>5/14/20</th>\n",
              "      <th>5/15/20</th>\n",
              "      <th>5/16/20</th>\n",
              "      <th>5/17/20</th>\n",
              "      <th>5/18/20</th>\n",
              "      <th>5/19/20</th>\n",
              "      <th>5/20/20</th>\n",
              "      <th>5/21/20</th>\n",
              "      <th>5/22/20</th>\n",
              "      <th>5/23/20</th>\n",
              "      <th>5/24/20</th>\n",
              "      <th>5/25/20</th>\n",
              "      <th>5/26/20</th>\n",
              "      <th>5/27/20</th>\n",
              "      <th>5/28/20</th>\n",
              "      <th>5/29/20</th>\n",
              "      <th>5/30/20</th>\n",
              "      <th>5/31/20</th>\n",
              "      <th>6/1/20</th>\n",
              "      <th>6/2/20</th>\n",
              "      <th>6/3/20</th>\n",
              "      <th>6/4/20</th>\n",
              "      <th>6/5/20</th>\n",
              "      <th>6/6/20</th>\n",
              "      <th>6/7/20</th>\n",
              "      <th>6/8/20</th>\n",
              "      <th>6/9/20</th>\n",
              "      <th>6/10/20</th>\n",
              "      <th>6/11/20</th>\n",
              "      <th>6/12/20</th>\n",
              "      <th>6/13/20</th>\n",
              "      <th>6/14/20</th>\n",
              "      <th>6/15/20</th>\n",
              "      <th>6/16/20</th>\n",
              "      <th>6/17/20</th>\n",
              "      <th>6/18/20</th>\n",
              "      <th>6/19/20</th>\n",
              "      <th>6/20/20</th>\n",
              "      <th>6/21/20</th>\n",
              "    </tr>\n",
              "  </thead>\n",
              "  <tbody>\n",
              "    <tr>\n",
              "      <th>0</th>\n",
              "      <td>NaN</td>\n",
              "      <td>Afghanistan</td>\n",
              "      <td>33.0000</td>\n",
              "      <td>65.0000</td>\n",
              "      <td>0</td>\n",
              "      <td>0</td>\n",
              "      <td>0</td>\n",
              "      <td>0</td>\n",
              "      <td>0</td>\n",
              "      <td>0</td>\n",
              "      <td>0</td>\n",
              "      <td>0</td>\n",
              "      <td>0</td>\n",
              "      <td>0</td>\n",
              "      <td>0</td>\n",
              "      <td>0</td>\n",
              "      <td>0</td>\n",
              "      <td>0</td>\n",
              "      <td>0</td>\n",
              "      <td>0</td>\n",
              "      <td>0</td>\n",
              "      <td>0</td>\n",
              "      <td>0</td>\n",
              "      <td>0</td>\n",
              "      <td>0</td>\n",
              "      <td>0</td>\n",
              "      <td>0</td>\n",
              "      <td>0</td>\n",
              "      <td>0</td>\n",
              "      <td>0</td>\n",
              "      <td>0</td>\n",
              "      <td>0</td>\n",
              "      <td>0</td>\n",
              "      <td>0</td>\n",
              "      <td>0</td>\n",
              "      <td>0</td>\n",
              "      <td>0</td>\n",
              "      <td>1</td>\n",
              "      <td>1</td>\n",
              "      <td>1</td>\n",
              "      <td>...</td>\n",
              "      <td>5226</td>\n",
              "      <td>5639</td>\n",
              "      <td>6053</td>\n",
              "      <td>6402</td>\n",
              "      <td>6664</td>\n",
              "      <td>7072</td>\n",
              "      <td>7653</td>\n",
              "      <td>8145</td>\n",
              "      <td>8676</td>\n",
              "      <td>9216</td>\n",
              "      <td>9998</td>\n",
              "      <td>10582</td>\n",
              "      <td>11173</td>\n",
              "      <td>11831</td>\n",
              "      <td>12456</td>\n",
              "      <td>13036</td>\n",
              "      <td>13659</td>\n",
              "      <td>14525</td>\n",
              "      <td>15205</td>\n",
              "      <td>15750</td>\n",
              "      <td>16509</td>\n",
              "      <td>17267</td>\n",
              "      <td>18054</td>\n",
              "      <td>18969</td>\n",
              "      <td>19551</td>\n",
              "      <td>20342</td>\n",
              "      <td>20917</td>\n",
              "      <td>21459</td>\n",
              "      <td>22142</td>\n",
              "      <td>22890</td>\n",
              "      <td>23546</td>\n",
              "      <td>24102</td>\n",
              "      <td>24766</td>\n",
              "      <td>25527</td>\n",
              "      <td>26310</td>\n",
              "      <td>26874</td>\n",
              "      <td>27532</td>\n",
              "      <td>27878</td>\n",
              "      <td>28424</td>\n",
              "      <td>28833</td>\n",
              "    </tr>\n",
              "    <tr>\n",
              "      <th>1</th>\n",
              "      <td>NaN</td>\n",
              "      <td>Albania</td>\n",
              "      <td>41.1533</td>\n",
              "      <td>20.1683</td>\n",
              "      <td>0</td>\n",
              "      <td>0</td>\n",
              "      <td>0</td>\n",
              "      <td>0</td>\n",
              "      <td>0</td>\n",
              "      <td>0</td>\n",
              "      <td>0</td>\n",
              "      <td>0</td>\n",
              "      <td>0</td>\n",
              "      <td>0</td>\n",
              "      <td>0</td>\n",
              "      <td>0</td>\n",
              "      <td>0</td>\n",
              "      <td>0</td>\n",
              "      <td>0</td>\n",
              "      <td>0</td>\n",
              "      <td>0</td>\n",
              "      <td>0</td>\n",
              "      <td>0</td>\n",
              "      <td>0</td>\n",
              "      <td>0</td>\n",
              "      <td>0</td>\n",
              "      <td>0</td>\n",
              "      <td>0</td>\n",
              "      <td>0</td>\n",
              "      <td>0</td>\n",
              "      <td>0</td>\n",
              "      <td>0</td>\n",
              "      <td>0</td>\n",
              "      <td>0</td>\n",
              "      <td>0</td>\n",
              "      <td>0</td>\n",
              "      <td>0</td>\n",
              "      <td>0</td>\n",
              "      <td>0</td>\n",
              "      <td>0</td>\n",
              "      <td>...</td>\n",
              "      <td>880</td>\n",
              "      <td>898</td>\n",
              "      <td>916</td>\n",
              "      <td>933</td>\n",
              "      <td>946</td>\n",
              "      <td>948</td>\n",
              "      <td>949</td>\n",
              "      <td>964</td>\n",
              "      <td>969</td>\n",
              "      <td>981</td>\n",
              "      <td>989</td>\n",
              "      <td>998</td>\n",
              "      <td>1004</td>\n",
              "      <td>1029</td>\n",
              "      <td>1050</td>\n",
              "      <td>1076</td>\n",
              "      <td>1099</td>\n",
              "      <td>1122</td>\n",
              "      <td>1137</td>\n",
              "      <td>1143</td>\n",
              "      <td>1164</td>\n",
              "      <td>1184</td>\n",
              "      <td>1197</td>\n",
              "      <td>1212</td>\n",
              "      <td>1232</td>\n",
              "      <td>1246</td>\n",
              "      <td>1263</td>\n",
              "      <td>1299</td>\n",
              "      <td>1341</td>\n",
              "      <td>1385</td>\n",
              "      <td>1416</td>\n",
              "      <td>1464</td>\n",
              "      <td>1521</td>\n",
              "      <td>1590</td>\n",
              "      <td>1672</td>\n",
              "      <td>1722</td>\n",
              "      <td>1788</td>\n",
              "      <td>1838</td>\n",
              "      <td>1891</td>\n",
              "      <td>1962</td>\n",
              "    </tr>\n",
              "    <tr>\n",
              "      <th>2</th>\n",
              "      <td>NaN</td>\n",
              "      <td>Algeria</td>\n",
              "      <td>28.0339</td>\n",
              "      <td>1.6596</td>\n",
              "      <td>0</td>\n",
              "      <td>0</td>\n",
              "      <td>0</td>\n",
              "      <td>0</td>\n",
              "      <td>0</td>\n",
              "      <td>0</td>\n",
              "      <td>0</td>\n",
              "      <td>0</td>\n",
              "      <td>0</td>\n",
              "      <td>0</td>\n",
              "      <td>0</td>\n",
              "      <td>0</td>\n",
              "      <td>0</td>\n",
              "      <td>0</td>\n",
              "      <td>0</td>\n",
              "      <td>0</td>\n",
              "      <td>0</td>\n",
              "      <td>0</td>\n",
              "      <td>0</td>\n",
              "      <td>0</td>\n",
              "      <td>0</td>\n",
              "      <td>0</td>\n",
              "      <td>0</td>\n",
              "      <td>0</td>\n",
              "      <td>0</td>\n",
              "      <td>0</td>\n",
              "      <td>0</td>\n",
              "      <td>0</td>\n",
              "      <td>0</td>\n",
              "      <td>0</td>\n",
              "      <td>0</td>\n",
              "      <td>0</td>\n",
              "      <td>0</td>\n",
              "      <td>0</td>\n",
              "      <td>1</td>\n",
              "      <td>1</td>\n",
              "      <td>...</td>\n",
              "      <td>6253</td>\n",
              "      <td>6442</td>\n",
              "      <td>6629</td>\n",
              "      <td>6821</td>\n",
              "      <td>7019</td>\n",
              "      <td>7201</td>\n",
              "      <td>7377</td>\n",
              "      <td>7542</td>\n",
              "      <td>7728</td>\n",
              "      <td>7918</td>\n",
              "      <td>8113</td>\n",
              "      <td>8306</td>\n",
              "      <td>8503</td>\n",
              "      <td>8697</td>\n",
              "      <td>8857</td>\n",
              "      <td>8997</td>\n",
              "      <td>9134</td>\n",
              "      <td>9267</td>\n",
              "      <td>9394</td>\n",
              "      <td>9513</td>\n",
              "      <td>9626</td>\n",
              "      <td>9733</td>\n",
              "      <td>9831</td>\n",
              "      <td>9935</td>\n",
              "      <td>10050</td>\n",
              "      <td>10154</td>\n",
              "      <td>10265</td>\n",
              "      <td>10382</td>\n",
              "      <td>10484</td>\n",
              "      <td>10589</td>\n",
              "      <td>10698</td>\n",
              "      <td>10810</td>\n",
              "      <td>10919</td>\n",
              "      <td>11031</td>\n",
              "      <td>11147</td>\n",
              "      <td>11268</td>\n",
              "      <td>11385</td>\n",
              "      <td>11504</td>\n",
              "      <td>11631</td>\n",
              "      <td>11771</td>\n",
              "    </tr>\n",
              "    <tr>\n",
              "      <th>3</th>\n",
              "      <td>NaN</td>\n",
              "      <td>Andorra</td>\n",
              "      <td>42.5063</td>\n",
              "      <td>1.5218</td>\n",
              "      <td>0</td>\n",
              "      <td>0</td>\n",
              "      <td>0</td>\n",
              "      <td>0</td>\n",
              "      <td>0</td>\n",
              "      <td>0</td>\n",
              "      <td>0</td>\n",
              "      <td>0</td>\n",
              "      <td>0</td>\n",
              "      <td>0</td>\n",
              "      <td>0</td>\n",
              "      <td>0</td>\n",
              "      <td>0</td>\n",
              "      <td>0</td>\n",
              "      <td>0</td>\n",
              "      <td>0</td>\n",
              "      <td>0</td>\n",
              "      <td>0</td>\n",
              "      <td>0</td>\n",
              "      <td>0</td>\n",
              "      <td>0</td>\n",
              "      <td>0</td>\n",
              "      <td>0</td>\n",
              "      <td>0</td>\n",
              "      <td>0</td>\n",
              "      <td>0</td>\n",
              "      <td>0</td>\n",
              "      <td>0</td>\n",
              "      <td>0</td>\n",
              "      <td>0</td>\n",
              "      <td>0</td>\n",
              "      <td>0</td>\n",
              "      <td>0</td>\n",
              "      <td>0</td>\n",
              "      <td>0</td>\n",
              "      <td>0</td>\n",
              "      <td>...</td>\n",
              "      <td>760</td>\n",
              "      <td>761</td>\n",
              "      <td>761</td>\n",
              "      <td>761</td>\n",
              "      <td>761</td>\n",
              "      <td>761</td>\n",
              "      <td>761</td>\n",
              "      <td>762</td>\n",
              "      <td>762</td>\n",
              "      <td>762</td>\n",
              "      <td>762</td>\n",
              "      <td>762</td>\n",
              "      <td>763</td>\n",
              "      <td>763</td>\n",
              "      <td>763</td>\n",
              "      <td>763</td>\n",
              "      <td>764</td>\n",
              "      <td>764</td>\n",
              "      <td>764</td>\n",
              "      <td>765</td>\n",
              "      <td>844</td>\n",
              "      <td>851</td>\n",
              "      <td>852</td>\n",
              "      <td>852</td>\n",
              "      <td>852</td>\n",
              "      <td>852</td>\n",
              "      <td>852</td>\n",
              "      <td>852</td>\n",
              "      <td>852</td>\n",
              "      <td>852</td>\n",
              "      <td>853</td>\n",
              "      <td>853</td>\n",
              "      <td>853</td>\n",
              "      <td>853</td>\n",
              "      <td>854</td>\n",
              "      <td>854</td>\n",
              "      <td>855</td>\n",
              "      <td>855</td>\n",
              "      <td>855</td>\n",
              "      <td>855</td>\n",
              "    </tr>\n",
              "    <tr>\n",
              "      <th>4</th>\n",
              "      <td>NaN</td>\n",
              "      <td>Angola</td>\n",
              "      <td>-11.2027</td>\n",
              "      <td>17.8739</td>\n",
              "      <td>0</td>\n",
              "      <td>0</td>\n",
              "      <td>0</td>\n",
              "      <td>0</td>\n",
              "      <td>0</td>\n",
              "      <td>0</td>\n",
              "      <td>0</td>\n",
              "      <td>0</td>\n",
              "      <td>0</td>\n",
              "      <td>0</td>\n",
              "      <td>0</td>\n",
              "      <td>0</td>\n",
              "      <td>0</td>\n",
              "      <td>0</td>\n",
              "      <td>0</td>\n",
              "      <td>0</td>\n",
              "      <td>0</td>\n",
              "      <td>0</td>\n",
              "      <td>0</td>\n",
              "      <td>0</td>\n",
              "      <td>0</td>\n",
              "      <td>0</td>\n",
              "      <td>0</td>\n",
              "      <td>0</td>\n",
              "      <td>0</td>\n",
              "      <td>0</td>\n",
              "      <td>0</td>\n",
              "      <td>0</td>\n",
              "      <td>0</td>\n",
              "      <td>0</td>\n",
              "      <td>0</td>\n",
              "      <td>0</td>\n",
              "      <td>0</td>\n",
              "      <td>0</td>\n",
              "      <td>0</td>\n",
              "      <td>0</td>\n",
              "      <td>...</td>\n",
              "      <td>45</td>\n",
              "      <td>48</td>\n",
              "      <td>48</td>\n",
              "      <td>48</td>\n",
              "      <td>48</td>\n",
              "      <td>50</td>\n",
              "      <td>52</td>\n",
              "      <td>52</td>\n",
              "      <td>58</td>\n",
              "      <td>60</td>\n",
              "      <td>61</td>\n",
              "      <td>69</td>\n",
              "      <td>70</td>\n",
              "      <td>70</td>\n",
              "      <td>71</td>\n",
              "      <td>74</td>\n",
              "      <td>81</td>\n",
              "      <td>84</td>\n",
              "      <td>86</td>\n",
              "      <td>86</td>\n",
              "      <td>86</td>\n",
              "      <td>86</td>\n",
              "      <td>86</td>\n",
              "      <td>86</td>\n",
              "      <td>88</td>\n",
              "      <td>91</td>\n",
              "      <td>92</td>\n",
              "      <td>96</td>\n",
              "      <td>113</td>\n",
              "      <td>118</td>\n",
              "      <td>130</td>\n",
              "      <td>138</td>\n",
              "      <td>140</td>\n",
              "      <td>142</td>\n",
              "      <td>148</td>\n",
              "      <td>155</td>\n",
              "      <td>166</td>\n",
              "      <td>172</td>\n",
              "      <td>176</td>\n",
              "      <td>183</td>\n",
              "    </tr>\n",
              "  </tbody>\n",
              "</table>\n",
              "<p>5 rows × 156 columns</p>\n",
              "</div>"
            ],
            "text/plain": [
              "  Province/State Country/Region      Lat  ...  6/19/20  6/20/20  6/21/20\n",
              "0            NaN    Afghanistan  33.0000  ...    27878    28424    28833\n",
              "1            NaN        Albania  41.1533  ...     1838     1891     1962\n",
              "2            NaN        Algeria  28.0339  ...    11504    11631    11771\n",
              "3            NaN        Andorra  42.5063  ...      855      855      855\n",
              "4            NaN         Angola -11.2027  ...      172      176      183\n",
              "\n",
              "[5 rows x 156 columns]"
            ]
          },
          "metadata": {
            "tags": []
          },
          "execution_count": 107
        }
      ]
    },
    {
      "cell_type": "markdown",
      "metadata": {
        "id": "vClmqeL2H4SA",
        "colab_type": "text"
      },
      "source": [
        "I only choosen the data of India"
      ]
    },
    {
      "cell_type": "code",
      "metadata": {
        "id": "gu_FKqM-iKI1",
        "colab_type": "code",
        "colab": {}
      },
      "source": [
        "data = df[df['Country/Region']=='India']"
      ],
      "execution_count": 108,
      "outputs": []
    },
    {
      "cell_type": "markdown",
      "metadata": {
        "id": "ZOgW1TMQICtp",
        "colab_type": "text"
      },
      "source": [
        "remove first 4 columns named as \n",
        "Province/State   \n",
        "Country/Region  \n",
        "Lat  \n",
        "Long  "
      ]
    },
    {
      "cell_type": "code",
      "metadata": {
        "id": "FCyQapXmiaWP",
        "colab_type": "code",
        "colab": {}
      },
      "source": [
        "data = data.iloc[:, 4:]"
      ],
      "execution_count": 109,
      "outputs": []
    },
    {
      "cell_type": "markdown",
      "metadata": {
        "id": "v1BBhJUBIV_q",
        "colab_type": "text"
      },
      "source": [
        "Check null value"
      ]
    },
    {
      "cell_type": "code",
      "metadata": {
        "id": "vDWTdnmFibVY",
        "colab_type": "code",
        "colab": {
          "base_uri": "https://localhost:8080/",
          "height": 34
        },
        "outputId": "df4902fe-8cf8-46b9-f24a-de798a86103f"
      },
      "source": [
        "data.isnull().sum().sum()"
      ],
      "execution_count": 110,
      "outputs": [
        {
          "output_type": "execute_result",
          "data": {
            "text/plain": [
              "0"
            ]
          },
          "metadata": {
            "tags": []
          },
          "execution_count": 110
        }
      ]
    },
    {
      "cell_type": "markdown",
      "metadata": {
        "id": "rwF2Xw6tIaBo",
        "colab_type": "text"
      },
      "source": [
        "convert date in pandas date-time frame"
      ]
    },
    {
      "cell_type": "code",
      "metadata": {
        "id": "BmlT3joTivUq",
        "colab_type": "code",
        "colab": {
          "base_uri": "https://localhost:8080/",
          "height": 118
        },
        "outputId": "b01e0382-f258-4a8c-dffe-94f21ef1860b"
      },
      "source": [
        "daily_cases = data.sum(axis=0)\n",
        "daily_cases.index = pd.to_datetime(daily_cases.index)\n",
        "daily_cases.head()"
      ],
      "execution_count": 111,
      "outputs": [
        {
          "output_type": "execute_result",
          "data": {
            "text/plain": [
              "2020-01-22    0\n",
              "2020-01-23    0\n",
              "2020-01-24    0\n",
              "2020-01-25    0\n",
              "2020-01-26    0\n",
              "dtype: int64"
            ]
          },
          "metadata": {
            "tags": []
          },
          "execution_count": 111
        }
      ]
    },
    {
      "cell_type": "code",
      "metadata": {
        "id": "LZnpH4_qjL5R",
        "colab_type": "code",
        "colab": {
          "base_uri": "https://localhost:8080/",
          "height": 118
        },
        "outputId": "71f2f103-20f7-4cee-9741-0fa9cfd90903"
      },
      "source": [
        "daily_cases.tail()"
      ],
      "execution_count": 112,
      "outputs": [
        {
          "output_type": "execute_result",
          "data": {
            "text/plain": [
              "2020-06-17    366946\n",
              "2020-06-18    380532\n",
              "2020-06-19    395048\n",
              "2020-06-20    410451\n",
              "2020-06-21    425282\n",
              "dtype: int64"
            ]
          },
          "metadata": {
            "tags": []
          },
          "execution_count": 112
        }
      ]
    },
    {
      "cell_type": "markdown",
      "metadata": {
        "id": "y5EoHM3bIkuy",
        "colab_type": "text"
      },
      "source": [
        "Plot data to visualization"
      ]
    },
    {
      "cell_type": "code",
      "metadata": {
        "id": "xoDfIal4jT2D",
        "colab_type": "code",
        "colab": {
          "base_uri": "https://localhost:8080/",
          "height": 281
        },
        "outputId": "ab011788-d4a1-4d1a-998d-95fab1377c64"
      },
      "source": [
        "plt.plot(daily_cases)\n",
        "plt.title(\"Daily Corona cases of India\");\n",
        "plt.show()"
      ],
      "execution_count": 113,
      "outputs": [
        {
          "output_type": "display_data",
          "data": {
            "image/png": "[encoded data removed]",
            "text/plain": [
              "<Figure size 432x288 with 1 Axes>"
            ]
          },
          "metadata": {
            "tags": [],
            "needs_background": "light"
          }
        }
      ]
    },
    {
      "cell_type": "markdown",
      "metadata": {
        "id": "8nhtKuFTIsDM",
        "colab_type": "text"
      },
      "source": [
        "#Split data in Train and Test"
      ]
    },
    {
      "cell_type": "code",
      "metadata": {
        "id": "MyyV6B9_ko7C",
        "colab_type": "code",
        "colab": {}
      },
      "source": [
        "train,test =daily_cases[:-7],daily_cases[-7:]"
      ],
      "execution_count": 114,
      "outputs": []
    },
    {
      "cell_type": "code",
      "metadata": {
        "id": "OnIOZUfjmZiH",
        "colab_type": "code",
        "colab": {
          "base_uri": "https://localhost:8080/",
          "height": 50
        },
        "outputId": "638eab9a-5255-4520-e18f-68b4a3a055b2"
      },
      "source": [
        "print(train.shape)\n",
        "print(test.shape)"
      ],
      "execution_count": 115,
      "outputs": [
        {
          "output_type": "stream",
          "text": [
            "(145,)\n",
            "(7,)\n"
          ],
          "name": "stdout"
        }
      ]
    },
    {
      "cell_type": "code",
      "metadata": {
        "id": "5A-t0DoNmf3V",
        "colab_type": "code",
        "colab": {}
      },
      "source": [
        "test_df = pd.DataFrame(test)\n",
        "train_df = pd.DataFrame(train)"
      ],
      "execution_count": 116,
      "outputs": []
    },
    {
      "cell_type": "markdown",
      "metadata": {
        "id": "LAYPwewMI41y",
        "colab_type": "text"
      },
      "source": [
        "##Fit ARIMA Model"
      ]
    },
    {
      "cell_type": "code",
      "metadata": {
        "id": "yRA5UYrZyD1Z",
        "colab_type": "code",
        "colab": {
          "base_uri": "https://localhost:8080/",
          "height": 1000
        },
        "outputId": "c9696102-46d1-452c-fd23-282dc7383c9d"
      },
      "source": [
        "from statsmodels.tsa.arima_model import ARIMA\n",
        "(p, d, q) = (6, 2, 3)\n",
        "model = ARIMA(train, order=(p,d,q)) \n",
        "#8-30 0-1 3-4-8-10\n",
        "model_fit = model.fit(disp=0)\n",
        "print(model_fit.summary())"
      ],
      "execution_count": 117,
      "outputs": [
        {
          "output_type": "stream",
          "text": [
            "/usr/local/lib/python3.6/dist-packages/statsmodels/tsa/base/tsa_model.py:165: ValueWarning: No frequency information was provided, so inferred frequency D will be used.\n",
            "  % freq, ValueWarning)\n",
            "/usr/local/lib/python3.6/dist-packages/statsmodels/tsa/base/tsa_model.py:165: ValueWarning: No frequency information was provided, so inferred frequency D will be used.\n",
            "  % freq, ValueWarning)\n",
            "/usr/local/lib/python3.6/dist-packages/statsmodels/tsa/tsatools.py:668: RuntimeWarning: overflow encountered in exp\n",
            "  newparams = ((1-np.exp(-params))/(1+np.exp(-params))).copy()\n",
            "/usr/local/lib/python3.6/dist-packages/statsmodels/tsa/tsatools.py:668: RuntimeWarning: invalid value encountered in true_divide\n",
            "  newparams = ((1-np.exp(-params))/(1+np.exp(-params))).copy()\n",
            "/usr/local/lib/python3.6/dist-packages/statsmodels/tsa/tsatools.py:669: RuntimeWarning: overflow encountered in exp\n",
            "  tmp = ((1-np.exp(-params))/(1+np.exp(-params))).copy()\n",
            "/usr/local/lib/python3.6/dist-packages/statsmodels/tsa/tsatools.py:669: RuntimeWarning: invalid value encountered in true_divide\n",
            "  tmp = ((1-np.exp(-params))/(1+np.exp(-params))).copy()\n",
            "/usr/local/lib/python3.6/dist-packages/statsmodels/base/model.py:492: HessianInversionWarning: Inverting hessian failed, no bse or cov_params available\n",
            "  'available', HessianInversionWarning)\n",
            "/usr/local/lib/python3.6/dist-packages/statsmodels/base/model.py:512: ConvergenceWarning: Maximum Likelihood optimization failed to converge. Check mle_retvals\n",
            "  \"Check mle_retvals\", ConvergenceWarning)\n"
          ],
          "name": "stderr"
        },
        {
          "output_type": "stream",
          "text": [
            "                             ARIMA Model Results                              \n",
            "==============================================================================\n",
            "Dep. Variable:                   D2.y   No. Observations:                  143\n",
            "Model:                 ARIMA(6, 2, 3)   Log Likelihood               -1064.638\n",
            "Method:                       css-mle   S.D. of innovations                nan\n",
            "Date:                Mon, 22 Jun 2020   AIC                           2151.277\n",
            "Time:                        08:05:30   BIC                           2183.868\n",
            "Sample:                    01-24-2020   HQIC                          2164.520\n",
            "                         - 06-14-2020                                         \n",
            "==============================================================================\n",
            "                 coef    std err          z      P>|z|      [0.025      0.975]\n",
            "------------------------------------------------------------------------------\n",
            "const         80.5801      0.000   1.74e+05      0.000      80.579      80.581\n",
            "ar.L1.D2.y     1.2480        nan        nan        nan         nan         nan\n",
            "ar.L2.D2.y    -0.8375        nan        nan        nan         nan         nan\n",
            "ar.L3.D2.y     0.2314   1.58e-06   1.46e+05      0.000       0.231       0.231\n",
            "ar.L4.D2.y    -0.0581   6.51e-07  -8.92e+04      0.000      -0.058      -0.058\n",
            "ar.L5.D2.y     0.2088   2.55e-06   8.19e+04      0.000       0.209       0.209\n",
            "ar.L6.D2.y     0.2074   1.07e-06   1.94e+05      0.000       0.207       0.207\n",
            "ma.L1.D2.y    -1.9424      0.055    -35.374      0.000      -2.050      -1.835\n",
            "ma.L2.D2.y     1.8111      0.089     20.316      0.000       1.636       1.986\n",
            "ma.L3.D2.y    -0.7904      0.050    -15.796      0.000      -0.888      -0.692\n",
            "                                    Roots                                    \n",
            "=============================================================================\n",
            "                  Real          Imaginary           Modulus         Frequency\n",
            "-----------------------------------------------------------------------------\n",
            "AR.1            1.0000           -0.0000j            1.0000           -0.0000\n",
            "AR.2            0.5825           -0.8128j            1.0000           -0.1510\n",
            "AR.3            0.5825           +0.8128j            1.0000            0.1510\n",
            "AR.4           -0.5068           -1.4062j            1.4947           -0.3050\n",
            "AR.5           -0.5068           +1.4062j            1.4947            0.3050\n",
            "AR.6           -2.1581           -0.0000j            2.1581           -0.5000\n",
            "MA.1            1.1033           -0.0000j            1.1033           -0.0000\n",
            "MA.2            0.5940           -0.8910j            1.0708           -0.1564\n",
            "MA.3            0.5940           +0.8910j            1.0708            0.1564\n",
            "-----------------------------------------------------------------------------\n"
          ],
          "name": "stdout"
        },
        {
          "output_type": "stream",
          "text": [
            "/usr/local/lib/python3.6/dist-packages/statsmodels/tsa/arima_model.py:1441: RuntimeWarning: invalid value encountered in sqrt\n",
            "  return np.sqrt(np.diag(-inv(hess)))\n",
            "/usr/local/lib/python3.6/dist-packages/scipy/stats/_distn_infrastructure.py:903: RuntimeWarning: invalid value encountered in greater\n",
            "  return (a < x) & (x < b)\n",
            "/usr/local/lib/python3.6/dist-packages/scipy/stats/_distn_infrastructure.py:903: RuntimeWarning: invalid value encountered in less\n",
            "  return (a < x) & (x < b)\n",
            "/usr/local/lib/python3.6/dist-packages/scipy/stats/_distn_infrastructure.py:1912: RuntimeWarning: invalid value encountered in less_equal\n",
            "  cond2 = cond0 & (x <= _a)\n"
          ],
          "name": "stderr"
        }
      ]
    },
    {
      "cell_type": "markdown",
      "metadata": {
        "id": "xizTc3elI_-Q",
        "colab_type": "text"
      },
      "source": [
        "##Performance Evaluation"
      ]
    },
    {
      "cell_type": "code",
      "metadata": {
        "id": "Ve3BauYV0aoS",
        "colab_type": "code",
        "colab": {}
      },
      "source": [
        "forecast = model_fit.forecast(steps=7)[0]\n",
        "forecast = forecast.astype(np.int64)\n",
        "result = pd.DataFrame(forecast,columns=['Forecast'])\n",
        "result.index = pd.to_datetime(test.index)\n",
        "result['Actual'] = test_df[0]"
      ],
      "execution_count": 118,
      "outputs": []
    },
    {
      "cell_type": "code",
      "metadata": {
        "id": "BuZAcG767TmN",
        "colab_type": "code",
        "colab": {
          "base_uri": "https://localhost:8080/",
          "height": 254
        },
        "outputId": "27627c1a-1edc-474b-d3be-62daafcbde8e"
      },
      "source": [
        "result"
      ],
      "execution_count": 119,
      "outputs": [
        {
          "output_type": "execute_result",
          "data": {
            "text/html": [
              "<div>\n",
              "<style scoped>\n",
              "    .dataframe tbody tr th:only-of-type {\n",
              "        vertical-align: middle;\n",
              "    }\n",
              "\n",
              "    .dataframe tbody tr th {\n",
              "        vertical-align: top;\n",
              "    }\n",
              "\n",
              "    .dataframe thead th {\n",
              "        text-align: right;\n",
              "    }\n",
              "</style>\n",
              "<table border=\"1\" class=\"dataframe\">\n",
              "  <thead>\n",
              "    <tr style=\"text-align: right;\">\n",
              "      <th></th>\n",
              "      <th>Forecast</th>\n",
              "      <th>Actual</th>\n",
              "    </tr>\n",
              "  </thead>\n",
              "  <tbody>\n",
              "    <tr>\n",
              "      <th>2020-06-15</th>\n",
              "      <td>343859</td>\n",
              "      <td>343091</td>\n",
              "    </tr>\n",
              "    <tr>\n",
              "      <th>2020-06-16</th>\n",
              "      <td>355714</td>\n",
              "      <td>354065</td>\n",
              "    </tr>\n",
              "    <tr>\n",
              "      <th>2020-06-17</th>\n",
              "      <td>368109</td>\n",
              "      <td>366946</td>\n",
              "    </tr>\n",
              "    <tr>\n",
              "      <th>2020-06-18</th>\n",
              "      <td>381044</td>\n",
              "      <td>380532</td>\n",
              "    </tr>\n",
              "    <tr>\n",
              "      <th>2020-06-19</th>\n",
              "      <td>394311</td>\n",
              "      <td>395048</td>\n",
              "    </tr>\n",
              "    <tr>\n",
              "      <th>2020-06-20</th>\n",
              "      <td>407537</td>\n",
              "      <td>410451</td>\n",
              "    </tr>\n",
              "    <tr>\n",
              "      <th>2020-06-21</th>\n",
              "      <td>420602</td>\n",
              "      <td>425282</td>\n",
              "    </tr>\n",
              "  </tbody>\n",
              "</table>\n",
              "</div>"
            ],
            "text/plain": [
              "            Forecast  Actual\n",
              "2020-06-15    343859  343091\n",
              "2020-06-16    355714  354065\n",
              "2020-06-17    368109  366946\n",
              "2020-06-18    381044  380532\n",
              "2020-06-19    394311  395048\n",
              "2020-06-20    407537  410451\n",
              "2020-06-21    420602  425282"
            ]
          },
          "metadata": {
            "tags": []
          },
          "execution_count": 119
        }
      ]
    },
    {
      "cell_type": "markdown",
      "metadata": {
        "id": "pH1z3emdJHhf",
        "colab_type": "text"
      },
      "source": [
        "###Performance Visualisation"
      ]
    },
    {
      "cell_type": "code",
      "metadata": {
        "id": "ZwPZRJ7D5oK_",
        "colab_type": "code",
        "colab": {
          "base_uri": "https://localhost:8080/",
          "height": 336
        },
        "outputId": "2ef4ee68-8206-43e0-d0c9-fb46bee0434b"
      },
      "source": [
        "plt.figure(figsize=(10,5))\n",
        "plt.plot(result['Forecast'],'r*', label='Forecast')\n",
        "plt.plot(result['Actual'],'go', label='Actual')\n",
        "plt.title('Actual and Forecasted Corona cases in India')\n",
        "plt.legend()\n",
        "plt.show()"
      ],
      "execution_count": 120,
      "outputs": [
        {
          "output_type": "display_data",
          "data": {
            "image/png": "[encoded data removed]",
            "text/plain": [
              "<Figure size 720x360 with 1 Axes>"
            ]
          },
          "metadata": {
            "tags": [],
            "needs_background": "light"
          }
        }
      ]
    },
    {
      "cell_type": "markdown",
      "metadata": {
        "id": "6T5N5NtWJMC8",
        "colab_type": "text"
      },
      "source": [
        "###Forecast and see actual and Forecast"
      ]
    },
    {
      "cell_type": "code",
      "metadata": {
        "id": "LOhe54yKDYuo",
        "colab_type": "code",
        "colab": {
          "base_uri": "https://localhost:8080/",
          "height": 306
        },
        "outputId": "25ba559f-f8d1-4bc3-894e-f22e5154e866"
      },
      "source": [
        "DAYS_TO_PREDICT = 14\n",
        "from statsmodels.tsa.arima_model import ARIMA\n",
        "(p, d, q) = (6, 2, 3)\n",
        "model = ARIMA(train, order=(p,d,q)) \n",
        "\n",
        "model_fit = model.fit(disp=0)\n",
        "#print(model_fit.summary())\n",
        "forecast = model_fit.forecast(steps=DAYS_TO_PREDICT)[0]\n",
        "forecast = forecast.astype(np.int64)\n",
        "predicted_index = pd.date_range(start=train.index[-1],periods=DAYS_TO_PREDICT + 1,closed='right')\n",
        "\n",
        "predicted_cases = pd.Series(data=forecast,index=predicted_index)"
      ],
      "execution_count": 121,
      "outputs": [
        {
          "output_type": "stream",
          "text": [
            "/usr/local/lib/python3.6/dist-packages/statsmodels/tsa/base/tsa_model.py:165: ValueWarning: No frequency information was provided, so inferred frequency D will be used.\n",
            "  % freq, ValueWarning)\n",
            "/usr/local/lib/python3.6/dist-packages/statsmodels/tsa/base/tsa_model.py:165: ValueWarning: No frequency information was provided, so inferred frequency D will be used.\n",
            "  % freq, ValueWarning)\n",
            "/usr/local/lib/python3.6/dist-packages/statsmodels/tsa/tsatools.py:668: RuntimeWarning: overflow encountered in exp\n",
            "  newparams = ((1-np.exp(-params))/(1+np.exp(-params))).copy()\n",
            "/usr/local/lib/python3.6/dist-packages/statsmodels/tsa/tsatools.py:668: RuntimeWarning: invalid value encountered in true_divide\n",
            "  newparams = ((1-np.exp(-params))/(1+np.exp(-params))).copy()\n",
            "/usr/local/lib/python3.6/dist-packages/statsmodels/tsa/tsatools.py:669: RuntimeWarning: overflow encountered in exp\n",
            "  tmp = ((1-np.exp(-params))/(1+np.exp(-params))).copy()\n",
            "/usr/local/lib/python3.6/dist-packages/statsmodels/tsa/tsatools.py:669: RuntimeWarning: invalid value encountered in true_divide\n",
            "  tmp = ((1-np.exp(-params))/(1+np.exp(-params))).copy()\n",
            "/usr/local/lib/python3.6/dist-packages/statsmodels/base/model.py:492: HessianInversionWarning: Inverting hessian failed, no bse or cov_params available\n",
            "  'available', HessianInversionWarning)\n",
            "/usr/local/lib/python3.6/dist-packages/statsmodels/base/model.py:512: ConvergenceWarning: Maximum Likelihood optimization failed to converge. Check mle_retvals\n",
            "  \"Check mle_retvals\", ConvergenceWarning)\n"
          ],
          "name": "stderr"
        }
      ]
    },
    {
      "cell_type": "code",
      "metadata": {
        "id": "KUwNzlXfDA2U",
        "colab_type": "code",
        "colab": {
          "base_uri": "https://localhost:8080/",
          "height": 336
        },
        "outputId": "d67cbdbb-a0a3-4b05-8901-8c3a516a0a5a"
      },
      "source": [
        "plt.figure(figsize=(10,5))\n",
        "plt.plot(predicted_cases,'r*', label='Forecast')\n",
        "plt.plot(result['Actual'],'go', label='Actual')\n",
        "plt.title('Actual and Forecasted Corona cases in India')\n",
        "plt.grid(b=None, which='major', axis='both')\n",
        "plt.legend()\n",
        "plt.show()"
      ],
      "execution_count": 122,
      "outputs": [
        {
          "output_type": "display_data",
          "data": {
            "image/png": "[encoded data removed]",
            "text/plain": [
              "<Figure size 720x360 with 1 Axes>"
            ]
          },
          "metadata": {
            "tags": [],
            "needs_background": "light"
          }
        }
      ]
    },
    {
      "cell_type": "code",
      "metadata": {
        "id": "yE_6ApEDDQpw",
        "colab_type": "code",
        "colab": {}
      },
      "source": [
        ""
      ],
      "execution_count": null,
      "outputs": []
    },
    {
      "cell_type": "code",
      "metadata": {
        "id": "74F9ZI7mJTYc",
        "colab_type": "code",
        "colab": {}
      },
      "source": [
        "#Train model on whole historical data and Forecast future value\n",
        "NO Split"
      ],
      "execution_count": null,
      "outputs": []
    },
    {
      "cell_type": "code",
      "metadata": {
        "id": "OXpr__jS70WJ",
        "colab_type": "code",
        "colab": {
          "base_uri": "https://localhost:8080/",
          "height": 306
        },
        "outputId": "f6eb2994-c003-4697-a7c7-8b79754eb280"
      },
      "source": [
        "DAYS_TO_PREDICT = 7\n",
        "from statsmodels.tsa.arima_model import ARIMA\n",
        "(p, d, q) = (6, 2, 3)\n",
        "model = ARIMA(daily_cases, order=(p,d,q)) \n",
        "\n",
        "model_fit = model.fit(disp=0)\n",
        "#print(model_fit.summary())\n",
        "forecast = model_fit.forecast(steps=DAYS_TO_PREDICT)[0]\n",
        "forecast = forecast.astype(np.int64)\n",
        "predicted_index = pd.date_range(start=daily_cases.index[-1],periods=DAYS_TO_PREDICT + 1,closed='right')\n",
        "\n",
        "predicted_cases = pd.Series(data=forecast,index=predicted_index)\n"
      ],
      "execution_count": 123,
      "outputs": [
        {
          "output_type": "stream",
          "text": [
            "/usr/local/lib/python3.6/dist-packages/statsmodels/tsa/base/tsa_model.py:165: ValueWarning: No frequency information was provided, so inferred frequency D will be used.\n",
            "  % freq, ValueWarning)\n",
            "/usr/local/lib/python3.6/dist-packages/statsmodels/tsa/base/tsa_model.py:165: ValueWarning: No frequency information was provided, so inferred frequency D will be used.\n",
            "  % freq, ValueWarning)\n",
            "/usr/local/lib/python3.6/dist-packages/statsmodels/tsa/tsatools.py:668: RuntimeWarning: overflow encountered in exp\n",
            "  newparams = ((1-np.exp(-params))/(1+np.exp(-params))).copy()\n",
            "/usr/local/lib/python3.6/dist-packages/statsmodels/tsa/tsatools.py:668: RuntimeWarning: invalid value encountered in true_divide\n",
            "  newparams = ((1-np.exp(-params))/(1+np.exp(-params))).copy()\n",
            "/usr/local/lib/python3.6/dist-packages/statsmodels/tsa/tsatools.py:669: RuntimeWarning: overflow encountered in exp\n",
            "  tmp = ((1-np.exp(-params))/(1+np.exp(-params))).copy()\n",
            "/usr/local/lib/python3.6/dist-packages/statsmodels/tsa/tsatools.py:669: RuntimeWarning: invalid value encountered in true_divide\n",
            "  tmp = ((1-np.exp(-params))/(1+np.exp(-params))).copy()\n",
            "/usr/local/lib/python3.6/dist-packages/statsmodels/base/model.py:492: HessianInversionWarning: Inverting hessian failed, no bse or cov_params available\n",
            "  'available', HessianInversionWarning)\n",
            "/usr/local/lib/python3.6/dist-packages/statsmodels/base/model.py:512: ConvergenceWarning: Maximum Likelihood optimization failed to converge. Check mle_retvals\n",
            "  \"Check mle_retvals\", ConvergenceWarning)\n"
          ],
          "name": "stderr"
        }
      ]
    },
    {
      "cell_type": "code",
      "metadata": {
        "id": "5TcFZz-R_1Sd",
        "colab_type": "code",
        "colab": {
          "base_uri": "https://localhost:8080/",
          "height": 336
        },
        "outputId": "dbc6daab-55da-4b2d-90e0-b59481fb0dc6"
      },
      "source": [
        "plt.figure(figsize=(10,5))\n",
        "plt.plot(predicted_cases,'r*', label='Forecast')\n",
        "\n",
        "plt.title('Forecasted Corona cases of India for next 1 week')\n",
        "plt.grid(b=None, which='both', axis='both')\n",
        "plt.legend()\n",
        "plt.show()"
      ],
      "execution_count": 127,
      "outputs": [
        {
          "output_type": "display_data",
          "data": {
            "image/png": "[encoded data removed]",
            "text/plain": [
              "<Figure size 720x360 with 1 Axes>"
            ]
          },
          "metadata": {
            "tags": [],
            "needs_background": "light"
          }
        }
      ]
    },
    {
      "cell_type": "code",
      "metadata": {
        "id": "BtAfBrXzAPev",
        "colab_type": "code",
        "colab": {}
      },
      "source": [
        "predicted_cases = pd.DataFrame(predicted_cases)"
      ],
      "execution_count": 129,
      "outputs": []
    },
    {
      "cell_type": "code",
      "metadata": {
        "id": "WhAsaSpwE5RM",
        "colab_type": "code",
        "colab": {
          "base_uri": "https://localhost:8080/",
          "height": 254
        },
        "outputId": "7f3c15b5-633e-45c5-c27b-de48c0090e1e"
      },
      "source": [
        "predicted_cases"
      ],
      "execution_count": 130,
      "outputs": [
        {
          "output_type": "execute_result",
          "data": {
            "text/html": [
              "<div>\n",
              "<style scoped>\n",
              "    .dataframe tbody tr th:only-of-type {\n",
              "        vertical-align: middle;\n",
              "    }\n",
              "\n",
              "    .dataframe tbody tr th {\n",
              "        vertical-align: top;\n",
              "    }\n",
              "\n",
              "    .dataframe thead th {\n",
              "        text-align: right;\n",
              "    }\n",
              "</style>\n",
              "<table border=\"1\" class=\"dataframe\">\n",
              "  <thead>\n",
              "    <tr style=\"text-align: right;\">\n",
              "      <th></th>\n",
              "      <th>0</th>\n",
              "    </tr>\n",
              "  </thead>\n",
              "  <tbody>\n",
              "    <tr>\n",
              "      <th>2020-06-22</th>\n",
              "      <td>439511</td>\n",
              "    </tr>\n",
              "    <tr>\n",
              "      <th>2020-06-23</th>\n",
              "      <td>454157</td>\n",
              "    </tr>\n",
              "    <tr>\n",
              "      <th>2020-06-24</th>\n",
              "      <td>469675</td>\n",
              "    </tr>\n",
              "    <tr>\n",
              "      <th>2020-06-25</th>\n",
              "      <td>486217</td>\n",
              "    </tr>\n",
              "    <tr>\n",
              "      <th>2020-06-26</th>\n",
              "      <td>503645</td>\n",
              "    </tr>\n",
              "    <tr>\n",
              "      <th>2020-06-27</th>\n",
              "      <td>521279</td>\n",
              "    </tr>\n",
              "    <tr>\n",
              "      <th>2020-06-28</th>\n",
              "      <td>538505</td>\n",
              "    </tr>\n",
              "  </tbody>\n",
              "</table>\n",
              "</div>"
            ],
            "text/plain": [
              "                 0\n",
              "2020-06-22  439511\n",
              "2020-06-23  454157\n",
              "2020-06-24  469675\n",
              "2020-06-25  486217\n",
              "2020-06-26  503645\n",
              "2020-06-27  521279\n",
              "2020-06-28  538505"
            ]
          },
          "metadata": {
            "tags": []
          },
          "execution_count": 130
        }
      ]
    },
    {
      "cell_type": "code",
      "metadata": {
        "id": "DXlPVzbhFP2N",
        "colab_type": "code",
        "colab": {}
      },
      "source": [
        ""
      ],
      "execution_count": null,
      "outputs": []
    }
  ]
}