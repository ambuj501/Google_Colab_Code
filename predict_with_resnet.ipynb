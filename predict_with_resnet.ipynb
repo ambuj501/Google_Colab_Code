{
  "nbformat": 4,
  "nbformat_minor": 0,
  "metadata": {
    "colab": {
      "name": "predict_with_resnet.ipynb",
      "provenance": []
    },
    "kernelspec": {
      "name": "python3",
      "display_name": "Python 3"
    },
    "accelerator": "GPU"
  },
  "cells": [
    {
      "cell_type": "code",
      "metadata": {
        "id": "2opScep2yVs2",
        "colab_type": "code",
        "colab": {
          "base_uri": "https://localhost:8080/",
          "height": 35
        },
        "outputId": "2233e505-1e45-4274-f366-7ca7429b487f"
      },
      "source": [
        "import keras"
      ],
      "execution_count": 1,
      "outputs": [
        {
          "output_type": "stream",
          "text": [
            "Using TensorFlow backend.\n"
          ],
          "name": "stderr"
        }
      ]
    },
    {
      "cell_type": "code",
      "metadata": {
        "id": "OpWAtql7uqpS",
        "colab_type": "code",
        "colab": {
          "base_uri": "https://localhost:8080/",
          "height": 74
        },
        "outputId": "9eece8a7-c30c-4bb5-c274-130e8bb529fc"
      },
      "source": [
        "from keras.applications.resnet50 import ResNet50\n",
        "model = ResNet50(weights='imagenet')\n",
        "model.save('model_resnet.h5')"
      ],
      "execution_count": 2,
      "outputs": [
        {
          "output_type": "stream",
          "text": [
            "Downloading data from https://github.com/fchollet/deep-learning-models/releases/download/v0.2/resnet50_weights_tf_dim_ordering_tf_kernels.h5\n",
            "102858752/102853048 [==============================] - 4s 0us/step\n"
          ],
          "name": "stdout"
        }
      ]
    },
    {
      "cell_type": "code",
      "metadata": {
        "id": "mwT_6Iy4uita",
        "colab_type": "code",
        "colab": {}
      },
      "source": [
        "from keras.applications.imagenet_utils import preprocess_input, decode_predictions\n",
        "from keras.models import load_model\n",
        "from keras.preprocessing import image"
      ],
      "execution_count": 3,
      "outputs": []
    },
    {
      "cell_type": "code",
      "metadata": {
        "id": "oMqCRGgEu88D",
        "colab_type": "code",
        "colab": {
          "base_uri": "https://localhost:8080/",
          "height": 74
        },
        "outputId": "9ef18bc8-77dc-4043-97a6-079891ca57c5"
      },
      "source": [
        "model = load_model('model_resnet.h5')"
      ],
      "execution_count": 4,
      "outputs": [
        {
          "output_type": "stream",
          "text": [
            "/usr/local/lib/python3.6/dist-packages/keras/engine/saving.py:341: UserWarning: No training configuration found in save file: the model was *not* compiled. Compile it manually.\n",
            "  warnings.warn('No training configuration found in save file: '\n"
          ],
          "name": "stderr"
        }
      ]
    },
    {
      "cell_type": "code",
      "metadata": {
        "id": "5IMDqM5TwJLE",
        "colab_type": "code",
        "colab": {}
      },
      "source": [
        "import numpy as np"
      ],
      "execution_count": 6,
      "outputs": []
    },
    {
      "cell_type": "code",
      "metadata": {
        "id": "V2LpMdg_vI32",
        "colab_type": "code",
        "colab": {}
      },
      "source": [
        "img = image.load_img('cat.JPG', target_size=(224, 224))\n",
        "\n",
        "# Preprocessing the image\n",
        "x = image.img_to_array(img)\n",
        "# x = np.true_divide(x, 255)\n",
        "x = np.expand_dims(x, axis=0)\n",
        "\n",
        "# Be careful how your trained model deals with the input\n",
        "# otherwise, it won't make correct prediction!\n",
        "x = preprocess_input(x, mode='caffe')\n",
        "\n",
        "preds = model.predict(x)\n"
      ],
      "execution_count": 9,
      "outputs": []
    },
    {
      "cell_type": "code",
      "metadata": {
        "id": "bVf4LTAKwDZF",
        "colab_type": "code",
        "colab": {
          "base_uri": "https://localhost:8080/",
          "height": 35
        },
        "outputId": "ac914500-a4a1-46ab-f712-75af629a6972"
      },
      "source": [
        "pred_class = decode_predictions(preds, top=1)   # ImageNet Decode\n",
        "result = str(pred_class[0][0][1])               # Convert to string\n",
        "print(result)"
      ],
      "execution_count": 10,
      "outputs": [
        {
          "output_type": "stream",
          "text": [
            "tabby\n"
          ],
          "name": "stdout"
        }
      ]
    },
    {
      "cell_type": "code",
      "metadata": {
        "id": "zbCaiX7gwcw_",
        "colab_type": "code",
        "colab": {}
      },
      "source": [
        ""
      ],
      "execution_count": null,
      "outputs": []
    }
  ]
}